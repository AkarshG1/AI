{
 "cells": [
  {
   "cell_type": "code",
   "execution_count": 1,
   "metadata": {},
   "outputs": [],
   "source": [
    "import numpy as np\n",
    "from atlas_ml import *\n",
    "import pandas as pd\n",
    "import struct\n",
    "import matplotlib\n",
    "import matplotlib.pyplot as plt\n",
    "from IPython.display import clear_output\n",
    "import time"
   ]
  },
  {
   "cell_type": "code",
   "execution_count": 2,
   "metadata": {},
   "outputs": [],
   "source": [
    "def zero_padding(img_matrix, padding):\n",
    "    pad_width = [(0,0),(0,0),(padding[0],padding[0]),(padding[1],padding[1])]\n",
    "    padded_matrix = np.pad(img_matrix, pad_width=pad_width, mode='constant',)\n",
    "    return padded_matrix"
   ]
  },
  {
   "cell_type": "code",
   "execution_count": 3,
   "metadata": {},
   "outputs": [],
   "source": [
    "# Testing zero_padding()\n",
    "\n",
    "A = np.arange(2*3*4*4).reshape(2,3,4,4)\n",
    "P = zero_padding(A,[2,2])\n",
    "\n",
    "#print(P)"
   ]
  },
  {
   "cell_type": "code",
   "execution_count": 4,
   "metadata": {},
   "outputs": [],
   "source": [
    "\n",
    "#https://stackoverflow.com/questions/30109068/implement-matlabs-im2col-sliding-in-python\n",
    "\n",
    "def im2col(imgs, kernel_size, stride):\n",
    "    # Parameters\n",
    "    F = kernel_size\n",
    "    batch_size, D,H,W = imgs.shape\n",
    "    col_extent = (W - F[1]) + 1\n",
    "    row_extent = (H - F[0]) + 1\n",
    "\n",
    "    # Get batch block indices\n",
    "    batch_idx = np.arange(batch_size)[:, None, None] * D * H * W\n",
    "    # Get Starting block indices\n",
    "    start_idx = np.arange(F[0])[None, :,None]*W + np.arange(F[1])\n",
    "    # Generate Depth indices\n",
    "    didx=H*W*np.arange(D)\n",
    "    start_idx=(didx[None, :, None]+start_idx.ravel()).reshape((-1,F[0],F[1]))\n",
    "\n",
    "    # Get offsetted indices across the height and width of input array\n",
    "    offset_idx = np.arange(row_extent)[None, :, None]*W + np.arange(col_extent)\n",
    "    \n",
    "    # Get all actual indices & index into input array for final output\n",
    "    act_idx = (batch_idx + \n",
    "        start_idx.ravel()[None, :, None] + \n",
    "        offset_idx[:,::stride[0],::stride[1]].ravel())\n",
    "\n",
    "    col_matrix = np.take (imgs, act_idx)\n",
    "    return col_matrix, act_idx"
   ]
  },
  {
   "cell_type": "code",
   "execution_count": 5,
   "metadata": {},
   "outputs": [
    {
     "name": "stdout",
     "output_type": "stream",
     "text": [
      "(5, 3, 28, 28)\n",
      "(5, 27, 676)\n",
      "(5, 3, 28, 28)\n"
     ]
    }
   ],
   "source": [
    "#Testing im2col()\n",
    "A = np.random.rand(5,3,28,28) # 3 Sample input array with 1 channel\n",
    "kernel_size = [3,3] # Sample blocksize (rows x columns)\n",
    "stride = [1,1]\n",
    "out, act_idx = im2col(A,kernel_size,stride)\n",
    "print(A.shape)\n",
    "print(out.shape)\n",
    "#print(act_idx.shape)\n",
    "dA1 = np.random.rand(*out.shape)\n",
    "dA2 = np.zeros(A.shape)\n",
    "#print(dA1)\n",
    "for i in range(dA2.shape[-1]):\n",
    "    dA2.ravel()[act_idx[:,:,i].ravel()] += dA1[:,:,i].ravel()\n",
    "print(dA2.shape)"
   ]
  },
  {
   "cell_type": "code",
   "execution_count": 6,
   "metadata": {},
   "outputs": [],
   "source": [
    "def init_filters(K, D, kernel_size, activation):\n",
    "        W = init_matrix(D*kernel_size[0]*kernel_size[1],K,activation)\n",
    "        return W"
   ]
  },
  {
   "cell_type": "code",
   "execution_count": 7,
   "metadata": {},
   "outputs": [],
   "source": [
    "class layer:\n",
    "    def __init__(self, n_prev, n_next, activation):\n",
    "        self.W = init_matrix(n_prev, n_next, activation)\n",
    "        self.B = init_matrix(1, n_next, activation)\n",
    "        self.activation = activation()\n",
    "        \n",
    "        self.V_dW = np.zeros(self.W.shape)\n",
    "        self.V_dB = np.zeros(self.B.shape)\n",
    "        \n",
    "    def forward(self, A0):\n",
    "        self.Z = np.einsum('ln,ml-> mn',self.W, A0) + self.B\n",
    "        self.A = self.activation.activate(self.Z)\n",
    "        return self.A\n",
    "    \n",
    "    def grad(self, dA, A0, m):\n",
    "        dAdZ = self.activation.diff(self.Z)\n",
    "        self.dZ = np.multiply(dA, dAdZ)\n",
    "        self.dW = (1./m)*np.einsum('mn,ml->ln',self.dZ, A0)\n",
    "        self.dB = (1./m)*(np.einsum('mn->n',self.dZ))\n",
    "        dA_prev = np.einsum('ln,mn->ml',self.W, self.dZ) \n",
    "        return dA_prev\n",
    "    \n",
    "    def out_grad(self, dZ, A0, m):\n",
    "        self.dZ = dZ\n",
    "        self.dW = (1./m)*np.einsum('mn,ml->ln',self.dZ, A0)\n",
    "        self.dB = (1./m)*(np.einsum('mn->n',self.dZ))\n",
    "        dA_prev = np.einsum('ln,mn->ml',self.W, self.dZ) \n",
    "        return dA_prev\n",
    "        \n",
    "    def step(self, lr, beta):\n",
    "        self.V_dW = (beta * self.V_dW + (1. - beta) * self.dW)\n",
    "        self.V_dB = (beta * self.V_dB + (1. - beta) * self.dB)\n",
    "        self.W = self.W - lr*self.V_dW\n",
    "        self.B = self.B - lr*self.V_dB"
   ]
  },
  {
   "cell_type": "code",
   "execution_count": 8,
   "metadata": {},
   "outputs": [],
   "source": [
    "class conv_layer:\n",
    "    def __init__(self, kernel_size, n_channels, activation, n_filters = 1, stride =[1,1],  padding = [0,0]):\n",
    "        self.kernel_size = kernel_size\n",
    "        self.n_channels = n_channels\n",
    "        self.n_filters = n_filters\n",
    "        self.stride = stride\n",
    "        self.padding = padding\n",
    "        self.activation = activation()\n",
    "        \n",
    "        #intialize [n_filters,n_channels,kernel_size[0],kernel_size[1]] filters\n",
    "        self.W = init_filters(self.n_filters, self.n_channels, self.kernel_size, activation)\n",
    "        self.B = init_matrix( 1, n_filters, activation)\n",
    "        \n",
    "        self.V_dW = np.zeros(self.W.shape)\n",
    "        self.V_dB = np.zeros(self.B.shape)\n",
    "        \n",
    "    def get_output_shape(self, A_prev_shape):\n",
    "        batch_size,D,W,H = A_prev_shape\n",
    "        H_out = (H - self.kernel_size[0])//self.stride[0] + 1\n",
    "        W_out = (W - self.kernel_size[1])//self.stride[1] + 1\n",
    "        output_shape = (batch_size, self.n_filters, H_out, W_out)\n",
    "        return output_shape\n",
    "    \n",
    "    def forward(self, A_prev):\n",
    "        A_prev = zero_padding(A_prev, self.padding)        \n",
    "        self.A_prev_shape = A_prev.shape\n",
    "        self.im2cols, self.act_idx = im2col(A_prev,self.kernel_size, self.stride)\n",
    "        output_shape = self.get_output_shape(A_prev.shape)\n",
    "        \n",
    "        self.Z = np.einsum('mfn,fk->mnk',self.im2cols,self.W) + self.B   \n",
    "        self.A = self.activation.activate(self.Z)\n",
    "        self.A = np.transpose(self.A,(0,2,1)).reshape(output_shape)\n",
    "        return self.A\n",
    "    \n",
    "    def grad(self, dA):\n",
    "        batch_size = dA.shape[0]\n",
    "        dAdZ = self.activation.diff(self.Z)\n",
    "        self.dZ = np.einsum('mjk,mjk->mjk', dA, dAdZ)\n",
    "        \n",
    "        self.dW = (1./batch_size)*np.einsum('mjk,mkl->jl', self.im2cols, self.dZ)\n",
    "        self.dB = (1./batch_size)*np.einsum('mjk->k', self.dZ)\n",
    "        \n",
    "        dA_prev_cols = np.einsum('mnk,fk-> mfn',self.dZ, self.W) \n",
    "\n",
    "        dA_prev = np.zeros(self.A_prev_shape)        \n",
    "        for i in range(self.act_idx.shape[-1]):\n",
    "            dA_prev.ravel()[self.act_idx[:,:,i].ravel()] += dA_prev_cols[:,:,i].ravel()\n",
    "\n",
    "        dA_prev = dA_prev.reshape(dA_prev.shape[0],dA_prev.shape[1],dA_prev.shape[2]*dA_prev.shape[3])\n",
    "        dA_prev = np.transpose(dA_prev,(0,2,1))\n",
    "        \n",
    "        return dA_prev\n",
    "    \n",
    "    def step(self, lr, beta, reg_lambda=0):\n",
    "        self.V_dW = (beta * self.V_dW + (1. - beta) * self.dW)\n",
    "        self.V_dB = (beta * self.V_dB + (1. - beta) * self.dB)\n",
    "        self.W    =  self.W - lr*self.V_dW\n",
    "        self.B    =  self.B - lr*self.V_dB"
   ]
  },
  {
   "cell_type": "code",
   "execution_count": 9,
   "metadata": {},
   "outputs": [],
   "source": [
    "class MNIST_CNN:\n",
    "    def __init__(self, Y_size, lossfn, n_channels=1):\n",
    "        self.L1 = conv_layer([5,5], n_channels, leaky_relu, n_filters = 10,padding = [2,2])\n",
    "        self.L2 = conv_layer([3,3], 10, leaky_relu, n_filters = 15)\n",
    "        self.L3 = max_pool_layer([2,2],15, stride=[2,2])\n",
    "        self.L4 = conv_layer([3,3], 15, leaky_relu)        \n",
    "        self.L5 = layer(121,50, leaky_relu)\n",
    "        self.L6 = layer(50, Y_size, softmax)\n",
    "        self.lossfn = lossfn()\n",
    "        \n",
    "    def f_pass(self, X):\n",
    "        A = self.L1.forward(X)\n",
    "        A = self.L2.forward(A)\n",
    "        A = self.L3.forward(A)\n",
    "        A = self.L4.forward(A)\n",
    "        A.resize(A.shape[0], A.shape[2]*A.shape[3])\n",
    "        A = self.L5.forward(A)\n",
    "        A = self.L6.forward(A)\n",
    "        self.H = A\n",
    "        return self.H\n",
    "    \n",
    "    def back_prop(self,X,Y, batch_size,reg_lambda=0):\n",
    "        m = batch_size\n",
    "        self.loss = self.lossfn.get_loss(self.H,Y)\n",
    "        dZ = self.lossfn.diff(self.H,Y)\n",
    "        dA = self.L6.out_grad(dZ, self.L5.A, m)\n",
    "        dA = self.L5.grad(dA,self.L4.A, m)\n",
    "        dA = np.expand_dims(dA,axis=-1)\n",
    "        dA = self.L4.grad(dA)\n",
    "        dA = self.L3.grad(dA)\n",
    "        dA = self.L2.grad(dA)\n",
    "        dX = self.L1.grad(dA)\n",
    "    \n",
    "    def optim(self, lr, beta=0):\n",
    "        self.L1.step(lr,beta)\n",
    "        self.L2.step(lr,beta)\n",
    "        self.L3.step(lr,beta)\n",
    "        self.L4.step(lr,beta)\n",
    "        self.L5.step(lr,beta)\n",
    "        self.L6.step(lr,beta)"
   ]
  },
  {
   "cell_type": "code",
   "execution_count": 10,
   "metadata": {},
   "outputs": [],
   "source": [
    "class max_pool_layer():\n",
    "    def __init__(self, kernel_size, n_channels, stride =[1,1],  padding = [0,0]):\n",
    "\n",
    "        self.kernel_size = kernel_size\n",
    "        self.n_channels = n_channels\n",
    "        self.stride = stride\n",
    "        self.padding = padding\n",
    "        \n",
    "    def get_output_shape(self, A_prev_shape):\n",
    "        batch_size,D,W,H = A_prev_shape\n",
    "        H_out = (H - self.kernel_size[0])//self.stride[0] + 1\n",
    "        W_out = (W - self.kernel_size[1])//self.stride[1] + 1\n",
    "        output_shape = (batch_size, self.n_channels, H_out, W_out)\n",
    "        return output_shape\n",
    "    \n",
    "    def forward(self, A_prev):\n",
    "\n",
    "        A_prev = zero_padding(A_prev, self.padding)\n",
    "        self.A_prev_shape = A_prev.shape\n",
    "        self.im2cols, self.act_idx = im2col(A_prev, self.kernel_size, self.stride)\n",
    "        \n",
    "        output_shape = self.get_output_shape(A_prev.shape)\n",
    "        \n",
    "        self.Z = np.split(self.im2cols,self.n_channels,axis=1)\n",
    "        self.Z = np.stack(self.Z, axis=1)\n",
    "\n",
    "        self.A = np.max(self.Z,axis=2)  \n",
    "        self.arg = np.argmax(self.A,axis=2)\n",
    "        \n",
    "        self.A = self.A.reshape(output_shape)\n",
    "        return self.A\n",
    "    \n",
    "    def grad(self, dA):\n",
    "        batch_size = dA.shape[0]\n",
    "        dA = np.expand_dims(dA.transpose(0,2,1), axis=2)\n",
    "        A = self.A.reshape(self.A.shape[0],self.A.shape[1],1,self.A.shape[-2]*self.A.shape[-1])\n",
    "        dAdZ = (self.Z - A)==0\n",
    "        self.dZ = np.multiply(dA, dAdZ) \n",
    "        shape = self.dZ.shape\n",
    "        self.dZ = self.dZ.reshape(shape[0],shape[1]*shape[2],shape[3])\n",
    "        \n",
    "        dA_prev = np.zeros(self.A_prev_shape)        \n",
    "        \n",
    "        for i in range(self.act_idx.shape[-1]):\n",
    "            dA_prev.ravel()[self.act_idx[:,:,i].ravel()] += self.dZ[:,:,i].ravel()\n",
    "\n",
    "        dA_prev = dA_prev.reshape(dA_prev.shape[0],dA_prev.shape[1],dA_prev.shape[2]*dA_prev.shape[3])\n",
    "        dA_prev = np.transpose(dA_prev,(0,2,1))\n",
    "        \n",
    "        return dA_prev\n",
    "    \n",
    "    def step(self, lr, beta, reg_lambda=0):\n",
    "        return None"
   ]
  },
  {
   "cell_type": "code",
   "execution_count": 11,
   "metadata": {},
   "outputs": [],
   "source": [
    "def SGD(batch_size,X,Y,model,lr,beta,reg_lambda=0):\n",
    "    m = np.shape(X)[0]\n",
    "    H = np.zeros(Y.shape)\n",
    "    for i in range(0,m,batch_size):\n",
    "        X_batch = X[i:i+batch_size]\n",
    "        Y_batch = Y[i:i+batch_size]\n",
    "        H[i:i+batch_size] = model.f_pass(X_batch)\n",
    "        model.back_prop(X_batch, Y_batch, batch_size, reg_lambda)\n",
    "        model.optim(lr,beta) \n",
    "    O = inv_one_hot(H)\n",
    "    L = inv_one_hot(Y)\n",
    "    tr_acc = model_accuracy(O,L)    \n",
    "    return model.loss, tr_acc"
   ]
  },
  {
   "cell_type": "code",
   "execution_count": 12,
   "metadata": {},
   "outputs": [],
   "source": [
    "trainX_path = 'MNIST_np/data/MNIST/train/train-images-idx3-ubyte'\n",
    "trainY_path = 'MNIST_np/data/MNIST/train/train-labels-idx1-ubyte'\n",
    "testX_path  = 'MNIST_np/data/MNIST/test/t10k-images.idx3-ubyte'\n",
    "testY_path  = 'MNIST_np/data/MNIST/test/t10k-labels.idx1-ubyte'\n",
    "\n",
    "X,Y,X_test,Y_test = load_mnist_data(trainX_path,trainY_path,testX_path,testY_path)"
   ]
  },
  {
   "cell_type": "code",
   "execution_count": 44,
   "metadata": {},
   "outputs": [],
   "source": [
    "n_out = np.shape(Y)[1]\n",
    "mnist_net = MNIST_CNN(n_out,CE_loss)"
   ]
  },
  {
   "cell_type": "code",
   "execution_count": 14,
   "metadata": {},
   "outputs": [],
   "source": [
    "batch_size = 16\n",
    "\n",
    "lr = 0.0004\n",
    "\n",
    "n_epochs = 20\n",
    "\n",
    "lr_decay = 0.9\n",
    "\n",
    "data_size = X.shape[0]\n",
    "\n",
    "beta = 0.99"
   ]
  },
  {
   "cell_type": "code",
   "execution_count": 42,
   "metadata": {},
   "outputs": [
    {
     "data": {
      "text/plain": [
       "array([[9.20115433e-177, 1.00000000e+000, 7.14746198e-298,\n",
       "        8.76894688e-178, 2.49832063e-146, 3.04895646e-143,\n",
       "        4.21460700e-264, 5.47036439e-269, 2.50293083e-228,\n",
       "        0.00000000e+000]])"
      ]
     },
     "execution_count": 42,
     "metadata": {},
     "output_type": "execute_result"
    }
   ],
   "source": [
    "mnist_net.f_pass(X[12:13])"
   ]
  },
  {
   "cell_type": "code",
   "execution_count": 43,
   "metadata": {},
   "outputs": [
    {
     "data": {
      "text/plain": [
       "3.173987435535112"
      ]
     },
     "execution_count": 43,
     "metadata": {},
     "output_type": "execute_result"
    }
   ],
   "source": [
    "start = time. time()\n",
    "mnist_net.f_pass(X[0:4])\n",
    "endf = time. time()\n",
    "mnist_net.back_prop(X[0:4],Y[0:4],4)\n",
    "endb = time. time()\n",
    "mnist_net.optim(lr,beta)\n",
    "endo = time. time()\n",
    "mnist_net.loss"
   ]
  },
  {
   "cell_type": "code",
   "execution_count": 85,
   "metadata": {},
   "outputs": [
    {
     "data": {
      "text/plain": [
       "1e-21"
      ]
     },
     "execution_count": 85,
     "metadata": {},
     "output_type": "execute_result"
    }
   ],
   "source": [
    "1e-21"
   ]
  },
  {
   "cell_type": "code",
   "execution_count": 32,
   "metadata": {},
   "outputs": [
    {
     "data": {
      "text/plain": [
       "11.975921313417553"
      ]
     },
     "execution_count": 32,
     "metadata": {},
     "output_type": "execute_result"
    }
   ],
   "source": [
    "mnist_net.L6.dW.max()"
   ]
  },
  {
   "cell_type": "code",
   "execution_count": 18,
   "metadata": {},
   "outputs": [
    {
     "name": "stdout",
     "output_type": "stream",
     "text": [
      "f-pass:0.0171 | b-prop:0.0191 | optim: 0.0003 | total: 0.0364\n"
     ]
    }
   ],
   "source": [
    "print(f\"f-pass:{endf-start:.4f} | b-prop:{endb-endf:.4f} | optim: {endo-endb:.4f} | total: {endo-start:.4f}\")"
   ]
  },
  {
   "cell_type": "code",
   "execution_count": 45,
   "metadata": {},
   "outputs": [
    {
     "name": "stdout",
     "output_type": "stream",
     "text": [
      "[[5. 5. 5. 5. 5. 5. 5. 5. 5. 5. 5. 5. 1. 5. 5. 5. 5. 5. 5. 5. 5. 5. 5. 5.\n",
      "  5. 1. 5. 5. 1. 5. 5. 5. 5. 5. 5. 5. 5. 3. 5. 5. 5. 5. 5. 5. 5. 5. 5. 5.\n",
      "  5. 5. 5. 3. 5. 5. 5. 5. 3. 5. 5. 5. 5. 5. 5. 3.]]\n",
      "[[5. 0. 4. 1. 9. 2. 1. 3. 1. 4. 3. 5. 3. 6. 1. 7. 2. 8. 6. 9. 4. 0. 9. 1.\n",
      "  1. 2. 4. 3. 2. 7. 3. 8. 6. 9. 0. 5. 6. 0. 7. 6. 1. 8. 7. 9. 3. 9. 8. 5.\n",
      "  9. 3. 3. 0. 7. 4. 9. 8. 0. 9. 4. 1. 4. 4. 6. 0.]]\n"
     ]
    }
   ],
   "source": [
    "H = mnist_net.f_pass(X[0:64])\n",
    "O = inv_one_hot(H)\n",
    "L = inv_one_hot(Y[0:64])\n",
    "print(O.T)\n",
    "print(L.T)"
   ]
  },
  {
   "cell_type": "code",
   "execution_count": 46,
   "metadata": {},
   "outputs": [
    {
     "name": "stdout",
     "output_type": "stream",
     "text": [
      "epoch:1/20 | Loss:1.1917 Train Accuracy: 0.1336 | Test_Accuracy:0.1525\n"
     ]
    },
    {
     "ename": "KeyboardInterrupt",
     "evalue": "",
     "output_type": "error",
     "traceback": [
      "\u001b[0;31m---------------------------------------------------------------------------\u001b[0m",
      "\u001b[0;31mKeyboardInterrupt\u001b[0m                         Traceback (most recent call last)",
      "\u001b[0;32m<ipython-input-46-47ac5a52ec1c>\u001b[0m in \u001b[0;36m<module>\u001b[0;34m\u001b[0m\n\u001b[1;32m      1\u001b[0m train(mnist_net, X, Y, X_test, Y_test, model_accuracy, n_epochs, \\\n\u001b[0;32m----> 2\u001b[0;31m     batch_size, lr, lr_decay, beta, reg_lambda=0)\n\u001b[0m",
      "\u001b[0;32m~/Projects/AI/Deep_Learning/atlas_ml.py\u001b[0m in \u001b[0;36mtrain\u001b[0;34m(model, X, Y, X_test, Y_test, metric, n_epochs, batch_size, lr, lr_decay, beta, reg_lambda)\u001b[0m\n\u001b[1;32m    310\u001b[0m         \u001b[0;31m#SGD with momentum\u001b[0m\u001b[0;34m\u001b[0m\u001b[0;34m\u001b[0m\u001b[0;34m\u001b[0m\u001b[0m\n\u001b[1;32m    311\u001b[0m         \u001b[0mloss\u001b[0m\u001b[0;34m,\u001b[0m \u001b[0mtr_acc\u001b[0m \u001b[0;34m=\u001b[0m \u001b[0mSGD\u001b[0m\u001b[0;34m(\u001b[0m\u001b[0mbatch_size\u001b[0m\u001b[0;34m,\u001b[0m\u001b[0mX\u001b[0m\u001b[0;34m,\u001b[0m\u001b[0mY\u001b[0m\u001b[0;34m,\u001b[0m\u001b[0mmodel\u001b[0m\u001b[0;34m,\u001b[0m\u001b[0mlr\u001b[0m\u001b[0;34m,\u001b[0m \u001b[0mbeta\u001b[0m\u001b[0;34m,\u001b[0m \u001b[0mreg_lambda\u001b[0m\u001b[0;34m)\u001b[0m\u001b[0;34m\u001b[0m\u001b[0;34m\u001b[0m\u001b[0m\n\u001b[0;32m--> 312\u001b[0;31m         \u001b[0mlr\u001b[0m \u001b[0;34m=\u001b[0m \u001b[0mlr\u001b[0m\u001b[0;34m*\u001b[0m\u001b[0mlr_decay\u001b[0m\u001b[0;34m\u001b[0m\u001b[0;34m\u001b[0m\u001b[0m\n\u001b[0m\u001b[1;32m    313\u001b[0m \u001b[0;34m\u001b[0m\u001b[0m\n\u001b[1;32m    314\u001b[0m         \u001b[0mm\u001b[0m \u001b[0;34m=\u001b[0m \u001b[0mnp\u001b[0m\u001b[0;34m.\u001b[0m\u001b[0mshape\u001b[0m\u001b[0;34m(\u001b[0m\u001b[0mX_test\u001b[0m\u001b[0;34m)\u001b[0m\u001b[0;34m[\u001b[0m\u001b[0;36m0\u001b[0m\u001b[0;34m]\u001b[0m\u001b[0;34m\u001b[0m\u001b[0;34m\u001b[0m\u001b[0m\n",
      "\u001b[0;32m~/Projects/AI/Deep_Learning/atlas_ml.py\u001b[0m in \u001b[0;36mSGD\u001b[0;34m(batch_size, X, Y, model, lr, beta, reg_lambda)\u001b[0m\n\u001b[1;32m    214\u001b[0m         \u001b[0mH\u001b[0m\u001b[0;34m[\u001b[0m\u001b[0mi\u001b[0m\u001b[0;34m:\u001b[0m\u001b[0mi\u001b[0m\u001b[0;34m+\u001b[0m\u001b[0mbatch_size\u001b[0m\u001b[0;34m]\u001b[0m \u001b[0;34m=\u001b[0m \u001b[0mmodel\u001b[0m\u001b[0;34m.\u001b[0m\u001b[0mf_pass\u001b[0m\u001b[0;34m(\u001b[0m\u001b[0mX_batch\u001b[0m\u001b[0;34m)\u001b[0m\u001b[0;34m\u001b[0m\u001b[0;34m\u001b[0m\u001b[0m\n\u001b[1;32m    215\u001b[0m         \u001b[0mmodel\u001b[0m\u001b[0;34m.\u001b[0m\u001b[0mback_prop\u001b[0m\u001b[0;34m(\u001b[0m\u001b[0mX_batch\u001b[0m\u001b[0;34m,\u001b[0m \u001b[0mY_batch\u001b[0m\u001b[0;34m,\u001b[0m \u001b[0mbatch_size\u001b[0m\u001b[0;34m,\u001b[0m \u001b[0mreg_lambda\u001b[0m\u001b[0;34m)\u001b[0m\u001b[0;34m\u001b[0m\u001b[0;34m\u001b[0m\u001b[0m\n\u001b[0;32m--> 216\u001b[0;31m         \u001b[0mmodel\u001b[0m\u001b[0;34m.\u001b[0m\u001b[0moptim\u001b[0m\u001b[0;34m(\u001b[0m\u001b[0mlr\u001b[0m\u001b[0;34m,\u001b[0m\u001b[0mbeta\u001b[0m\u001b[0;34m)\u001b[0m\u001b[0;34m\u001b[0m\u001b[0;34m\u001b[0m\u001b[0m\n\u001b[0m\u001b[1;32m    217\u001b[0m     \u001b[0mO\u001b[0m \u001b[0;34m=\u001b[0m \u001b[0minv_one_hot\u001b[0m\u001b[0;34m(\u001b[0m\u001b[0mH\u001b[0m\u001b[0;34m)\u001b[0m\u001b[0;34m\u001b[0m\u001b[0;34m\u001b[0m\u001b[0m\n\u001b[1;32m    218\u001b[0m     \u001b[0mL\u001b[0m \u001b[0;34m=\u001b[0m \u001b[0minv_one_hot\u001b[0m\u001b[0;34m(\u001b[0m\u001b[0mY\u001b[0m\u001b[0;34m)\u001b[0m\u001b[0;34m\u001b[0m\u001b[0;34m\u001b[0m\u001b[0m\n",
      "\u001b[0;32m<ipython-input-9-da2d9fc77d5d>\u001b[0m in \u001b[0;36mback_prop\u001b[0;34m(self, X, Y, batch_size, reg_lambda)\u001b[0m\n\u001b[1;32m     29\u001b[0m         \u001b[0mdA\u001b[0m \u001b[0;34m=\u001b[0m \u001b[0mself\u001b[0m\u001b[0;34m.\u001b[0m\u001b[0mL4\u001b[0m\u001b[0;34m.\u001b[0m\u001b[0mgrad\u001b[0m\u001b[0;34m(\u001b[0m\u001b[0mdA\u001b[0m\u001b[0;34m)\u001b[0m\u001b[0;34m\u001b[0m\u001b[0;34m\u001b[0m\u001b[0m\n\u001b[1;32m     30\u001b[0m         \u001b[0mdA\u001b[0m \u001b[0;34m=\u001b[0m \u001b[0mself\u001b[0m\u001b[0;34m.\u001b[0m\u001b[0mL3\u001b[0m\u001b[0;34m.\u001b[0m\u001b[0mgrad\u001b[0m\u001b[0;34m(\u001b[0m\u001b[0mdA\u001b[0m\u001b[0;34m)\u001b[0m\u001b[0;34m\u001b[0m\u001b[0;34m\u001b[0m\u001b[0m\n\u001b[0;32m---> 31\u001b[0;31m         \u001b[0mdA\u001b[0m \u001b[0;34m=\u001b[0m \u001b[0mself\u001b[0m\u001b[0;34m.\u001b[0m\u001b[0mL2\u001b[0m\u001b[0;34m.\u001b[0m\u001b[0mgrad\u001b[0m\u001b[0;34m(\u001b[0m\u001b[0mdA\u001b[0m\u001b[0;34m)\u001b[0m\u001b[0;34m\u001b[0m\u001b[0;34m\u001b[0m\u001b[0m\n\u001b[0m\u001b[1;32m     32\u001b[0m         \u001b[0mdX\u001b[0m \u001b[0;34m=\u001b[0m \u001b[0mself\u001b[0m\u001b[0;34m.\u001b[0m\u001b[0mL1\u001b[0m\u001b[0;34m.\u001b[0m\u001b[0mgrad\u001b[0m\u001b[0;34m(\u001b[0m\u001b[0mdA\u001b[0m\u001b[0;34m)\u001b[0m\u001b[0;34m\u001b[0m\u001b[0;34m\u001b[0m\u001b[0m\n\u001b[1;32m     33\u001b[0m \u001b[0;34m\u001b[0m\u001b[0m\n",
      "\u001b[0;32m<ipython-input-8-ee634c2ec3f7>\u001b[0m in \u001b[0;36mgrad\u001b[0;34m(self, dA)\u001b[0m\n\u001b[1;32m     38\u001b[0m         \u001b[0mself\u001b[0m\u001b[0;34m.\u001b[0m\u001b[0mdZ\u001b[0m \u001b[0;34m=\u001b[0m \u001b[0mnp\u001b[0m\u001b[0;34m.\u001b[0m\u001b[0meinsum\u001b[0m\u001b[0;34m(\u001b[0m\u001b[0;34m'mjk,mjk->mjk'\u001b[0m\u001b[0;34m,\u001b[0m \u001b[0mdA\u001b[0m\u001b[0;34m,\u001b[0m \u001b[0mdAdZ\u001b[0m\u001b[0;34m)\u001b[0m\u001b[0;34m\u001b[0m\u001b[0;34m\u001b[0m\u001b[0m\n\u001b[1;32m     39\u001b[0m \u001b[0;34m\u001b[0m\u001b[0m\n\u001b[0;32m---> 40\u001b[0;31m         \u001b[0mself\u001b[0m\u001b[0;34m.\u001b[0m\u001b[0mdW\u001b[0m \u001b[0;34m=\u001b[0m \u001b[0;34m(\u001b[0m\u001b[0;36m1.\u001b[0m\u001b[0;34m/\u001b[0m\u001b[0mbatch_size\u001b[0m\u001b[0;34m)\u001b[0m\u001b[0;34m*\u001b[0m\u001b[0mnp\u001b[0m\u001b[0;34m.\u001b[0m\u001b[0meinsum\u001b[0m\u001b[0;34m(\u001b[0m\u001b[0;34m'mjk,mkl->jl'\u001b[0m\u001b[0;34m,\u001b[0m \u001b[0mself\u001b[0m\u001b[0;34m.\u001b[0m\u001b[0mim2cols\u001b[0m\u001b[0;34m,\u001b[0m \u001b[0mself\u001b[0m\u001b[0;34m.\u001b[0m\u001b[0mdZ\u001b[0m\u001b[0;34m)\u001b[0m\u001b[0;34m\u001b[0m\u001b[0;34m\u001b[0m\u001b[0m\n\u001b[0m\u001b[1;32m     41\u001b[0m         \u001b[0mself\u001b[0m\u001b[0;34m.\u001b[0m\u001b[0mdB\u001b[0m \u001b[0;34m=\u001b[0m \u001b[0;34m(\u001b[0m\u001b[0;36m1.\u001b[0m\u001b[0;34m/\u001b[0m\u001b[0mbatch_size\u001b[0m\u001b[0;34m)\u001b[0m\u001b[0;34m*\u001b[0m\u001b[0mnp\u001b[0m\u001b[0;34m.\u001b[0m\u001b[0meinsum\u001b[0m\u001b[0;34m(\u001b[0m\u001b[0;34m'mjk->k'\u001b[0m\u001b[0;34m,\u001b[0m \u001b[0mself\u001b[0m\u001b[0;34m.\u001b[0m\u001b[0mdZ\u001b[0m\u001b[0;34m)\u001b[0m\u001b[0;34m\u001b[0m\u001b[0;34m\u001b[0m\u001b[0m\n\u001b[1;32m     42\u001b[0m \u001b[0;34m\u001b[0m\u001b[0m\n",
      "\u001b[0;32m~/anaconda3/envs/onlinepub/lib/python3.6/site-packages/numpy/core/einsumfunc.py\u001b[0m in \u001b[0;36meinsum\u001b[0;34m(*operands, **kwargs)\u001b[0m\n\u001b[1;32m   1226\u001b[0m     \u001b[0;31m# If no optimization, run pure einsum\u001b[0m\u001b[0;34m\u001b[0m\u001b[0;34m\u001b[0m\u001b[0;34m\u001b[0m\u001b[0m\n\u001b[1;32m   1227\u001b[0m     \u001b[0;32mif\u001b[0m \u001b[0moptimize_arg\u001b[0m \u001b[0;32mis\u001b[0m \u001b[0;32mFalse\u001b[0m\u001b[0;34m:\u001b[0m\u001b[0;34m\u001b[0m\u001b[0;34m\u001b[0m\u001b[0m\n\u001b[0;32m-> 1228\u001b[0;31m         \u001b[0;32mreturn\u001b[0m \u001b[0mc_einsum\u001b[0m\u001b[0;34m(\u001b[0m\u001b[0;34m*\u001b[0m\u001b[0moperands\u001b[0m\u001b[0;34m,\u001b[0m \u001b[0;34m**\u001b[0m\u001b[0mkwargs\u001b[0m\u001b[0;34m)\u001b[0m\u001b[0;34m\u001b[0m\u001b[0;34m\u001b[0m\u001b[0m\n\u001b[0m\u001b[1;32m   1229\u001b[0m \u001b[0;34m\u001b[0m\u001b[0m\n\u001b[1;32m   1230\u001b[0m     \u001b[0mvalid_einsum_kwargs\u001b[0m \u001b[0;34m=\u001b[0m \u001b[0;34m[\u001b[0m\u001b[0;34m'out'\u001b[0m\u001b[0;34m,\u001b[0m \u001b[0;34m'dtype'\u001b[0m\u001b[0;34m,\u001b[0m \u001b[0;34m'order'\u001b[0m\u001b[0;34m,\u001b[0m \u001b[0;34m'casting'\u001b[0m\u001b[0;34m]\u001b[0m\u001b[0;34m\u001b[0m\u001b[0;34m\u001b[0m\u001b[0m\n",
      "\u001b[0;31mKeyboardInterrupt\u001b[0m: "
     ]
    },
    {
     "data": {
      "image/png": "[encoded data removed]",
      "text/plain": [
       "<Figure size 432x288 with 1 Axes>"
      ]
     },
     "metadata": {
      "needs_background": "light"
     },
     "output_type": "display_data"
    }
   ],
   "source": [
    "train(mnist_net, X, Y, X_test, Y_test, model_accuracy, n_epochs, \\\n",
    "    batch_size, lr, lr_decay, beta, reg_lambda=0)"
   ]
  },
  {
   "cell_type": "code",
   "execution_count": null,
   "metadata": {
    "scrolled": true
   },
   "outputs": [],
   "source": [
    "for e in range(n_epochs):\n",
    "    #shuffle dataset\n",
    "    np.random.seed(138)\n",
    "    shuffle_index = np.random.permutation(data_size)\n",
    "    X, Y = X[shuffle_index,:], Y[shuffle_index,:]\n",
    "    \n",
    "    #SGD with momentum\n",
    "    loss, tr_acc = SGD(batch_size,X,Y,mnist_net,lr,beta)\n",
    "    lr = lr*lr_decay\n",
    "    \n",
    "    m = np.shape(X_test)[0]\n",
    "    H = np.zeros(Y_test.shape)\n",
    "    for i in range(0,m,batch_size):\n",
    "        X_test_batch = X_test[i:i+batch_size]\n",
    "        H[i:i+batch_size] = mnist_net.f_pass(X_test_batch)\n",
    "    O = inv_one_hot(H)\n",
    "    L = inv_one_hot(Y_test)\n",
    "    acc = model_accuracy(O,L)\n",
    "    \n",
    "    plt.plot(e,tr_acc, 'bo')\n",
    "    plt.plot(e,acc,'ro')\n",
    "    clear_output()\n",
    "    print(f\"epoch:{e+1}/{n_epochs} | Loss:{loss:.4f} | Train Accuracy: {tr_acc:.4f} | Test_Accuracy:{acc:.4f}\")\n",
    "plt.show()"
   ]
  },
  {
   "cell_type": "code",
   "execution_count": 172,
   "metadata": {},
   "outputs": [],
   "source": [
    "def save_model(model, filename):\n",
    "    with open(filename, 'wb') as output:  # Overwrites any existing file.\n",
    "        pickle.dump(model, output, pickle.HIGHEST_PROTOCOL)\n"
   ]
  },
  {
   "cell_type": "code",
   "execution_count": 174,
   "metadata": {},
   "outputs": [],
   "source": [
    "def load_model(filename):\n",
    "    model = None\n",
    "    with open(filename, 'r') as f:  # Overwrites any existing file.\n",
    "        model = pickle.load(f)   \n",
    "    return model"
   ]
  },
  {
   "cell_type": "code",
   "execution_count": 168,
   "metadata": {},
   "outputs": [],
   "source": [
    "import pickle"
   ]
  },
  {
   "cell_type": "code",
   "execution_count": 173,
   "metadata": {},
   "outputs": [],
   "source": [
    "save_model(mnist_net,\"mnist_cnn\")"
   ]
  },
  {
   "cell_type": "code",
   "execution_count": null,
   "metadata": {},
   "outputs": [],
   "source": [
    "load_model(\"mnist_cnn\")"
   ]
  },
  {
   "cell_type": "code",
   "execution_count": null,
   "metadata": {},
   "outputs": [],
   "source": []
  }
 ],
 "metadata": {
  "kernelspec": {
   "display_name": "onlinepub",
   "language": "python",
   "name": "testenv"
  },
  "language_info": {
   "codemirror_mode": {
    "name": "ipython",
    "version": 3
   },
   "file_extension": ".py",
   "mimetype": "text/x-python",
   "name": "python",
   "nbconvert_exporter": "python",
   "pygments_lexer": "ipython3",
   "version": "3.6.7"
  }
 },
 "nbformat": 4,
 "nbformat_minor": 2
}
