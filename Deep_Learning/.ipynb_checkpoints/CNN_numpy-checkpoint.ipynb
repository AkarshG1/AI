{
 "cells": [
  {
   "cell_type": "code",
   "execution_count": 1,
   "metadata": {},
   "outputs": [],
   "source": [
    "import numpy as np\n",
    "from atlas_ml import *\n",
    "import pandas as pd\n",
    "import matplotlib\n",
    "import matplotlib.pyplot as plt\n",
    "from IPython.display import clear_output\n",
    "import time"
   ]
  },
  {
   "cell_type": "code",
   "execution_count": 2,
   "metadata": {},
   "outputs": [],
   "source": [
    "def zero_padding(img_matrix, padding):\n",
    "    pad_width = [(0,0),(0,0),(padding[0],padding[0]),(padding[1],padding[1])]\n",
    "    padded_matrix = np.pad(img_matrix, pad_width=pad_width, mode='constant',)\n",
    "    return padded_matrix"
   ]
  },
  {
   "cell_type": "code",
   "execution_count": 3,
   "metadata": {},
   "outputs": [],
   "source": [
    "\n",
    "# Testing zero_padding()\n",
    "A = np.arange(2*3*4*4).reshape(2,3,4,4)\n",
    "P = zero_padding(A,[2,2])\n",
    "#print(P)"
   ]
  },
  {
   "cell_type": "code",
   "execution_count": 4,
   "metadata": {},
   "outputs": [],
   "source": [
    "#https://stackoverflow.com/questions/30109068/implement-matlabs-im2col-sliding-in-python\n",
    "def im2col(imgs, kernel_size, stride):\n",
    "    # Parameters\n",
    "    F = kernel_size\n",
    "    batch_size, D,H,W = imgs.shape\n",
    "    col_extent = (W - F[1]) + 1\n",
    "    row_extent = (H - F[0]) + 1\n",
    "\n",
    "    # Get batch block indices\n",
    "    batch_idx = np.arange(batch_size)[:, None, None] * D * H * W\n",
    "    # Get Starting block indices\n",
    "    start_idx = np.arange(F[0])[None, :,None]*W + np.arange(F[1])\n",
    "    # Generate Depth indices\n",
    "    didx=H*W*np.arange(D)\n",
    "    start_idx=(didx[None, :, None]+start_idx.ravel()).reshape((-1,F[0],F[1]))\n",
    "\n",
    "    # Get offsetted indices across the height and width of input array\n",
    "    offset_idx = np.arange(row_extent)[None, :, None]*W + np.arange(col_extent)\n",
    "    \n",
    "    # Get all actual indices & index into input array for final output\n",
    "    act_idx = (batch_idx + \n",
    "        start_idx.ravel()[None, :, None] + \n",
    "        offset_idx[:,::stride[0],::stride[1]].ravel())\n",
    "\n",
    "    col_matrix = np.take (imgs, act_idx)\n",
    "    return col_matrix, act_idx"
   ]
  },
  {
   "cell_type": "code",
   "execution_count": 5,
   "metadata": {},
   "outputs": [],
   "source": [
    "\n",
    "#Testing im2col()\n",
    "A = np.random.rand(5,3,28,28) # 3 Sample input array with 1 channel\n",
    "kernel_size = [3,3] # Sample blocksize (rows x columns)\n",
    "stride = [1,1]\n",
    "out, act_idx = im2col(A,kernel_size,stride)\n",
    "#print(A.shape)\n",
    "#print(out.shape)\n",
    "#print(act_idx.shape)\n",
    "dA1 = np.random.rand(*out.shape)\n",
    "dA2 = np.zeros(A.shape)\n",
    "#print(dA1)\n",
    "for i in range(dA2.shape[-1]):\n",
    "    dA2.ravel()[act_idx[:,:,i].ravel()] += dA1[:,:,i].ravel()\n",
    "#print(dA2.shape)\n"
   ]
  },
  {
   "cell_type": "code",
   "execution_count": 6,
   "metadata": {},
   "outputs": [],
   "source": [
    "def init_filters(K, D, kernel_size, activation):\n",
    "        W = init_matrix(D*kernel_size[0]*kernel_size[1],K,activation)\n",
    "        return W"
   ]
  },
  {
   "cell_type": "code",
   "execution_count": 7,
   "metadata": {},
   "outputs": [],
   "source": [
    "class layer:\n",
    "    def __init__(self, n_prev, n_next, activation):\n",
    "        self.W = init_matrix(n_prev, n_next, activation)\n",
    "        self.B = init_matrix(1, n_next, activation)\n",
    "        self.activation = activation()\n",
    "        \n",
    "        self.V_dW = np.zeros(self.W.shape)\n",
    "        self.V_dB = np.zeros(self.B.shape)\n",
    "        \n",
    "    def forward(self, A0):\n",
    "        self.Z = np.einsum('ln,ml-> mn',self.W, A0) + self.B\n",
    "        self.A = self.activation.activate(self.Z)\n",
    "        return self.A\n",
    "    \n",
    "    def grad(self, dA, A0, m):\n",
    "        dAdZ = self.activation.diff(self.Z)\n",
    "        self.dZ = np.multiply(dA, dAdZ)\n",
    "        self.dW = (1./m)*np.einsum('mn,ml->ln',self.dZ, A0)\n",
    "        self.dB = (1./m)*(np.einsum('mn->n',self.dZ))\n",
    "        dA_prev = np.einsum('ln,mn->ml',self.W, self.dZ) \n",
    "        return dA_prev\n",
    "    \n",
    "    def out_grad(self, dZ, A0, m):\n",
    "        self.dZ = dZ\n",
    "        self.dW = (1./m)*np.einsum('mn,ml->ln',self.dZ, A0)\n",
    "        self.dB = (1./m)*(np.einsum('mn->n',self.dZ))\n",
    "        dA_prev = np.einsum('ln,mn->ml',self.W, self.dZ) \n",
    "        return dA_prev\n",
    "        \n",
    "    def step(self, lr, beta):\n",
    "        self.V_dW = (beta * self.V_dW + (1. - beta) * self.dW)\n",
    "        self.V_dB = (beta * self.V_dB + (1. - beta) * self.dB)\n",
    "        self.W = self.W - lr*self.V_dW\n",
    "        self.B = self.B - lr*self.V_dB"
   ]
  },
  {
   "cell_type": "code",
   "execution_count": 8,
   "metadata": {},
   "outputs": [],
   "source": [
    "class conv_layer:\n",
    "    def __init__(self, kernel_size, n_channels, activation, n_filters = 1, stride =[1,1],  padding = [0,0]):\n",
    "        self.kernel_size = kernel_size\n",
    "        self.n_channels = n_channels\n",
    "        self.n_filters = n_filters\n",
    "        self.stride = stride\n",
    "        self.padding = padding\n",
    "        self.activation = activation()\n",
    "        \n",
    "        #intialize [n_filters,n_channels,kernel_size[0],kernel_size[1]] filters\n",
    "        self.W = init_filters(self.n_filters, self.n_channels, self.kernel_size, activation)\n",
    "        self.B = init_matrix( 1, n_filters, activation)\n",
    "        \n",
    "        self.V_dW = np.zeros(self.W.shape)\n",
    "        self.V_dB = np.zeros(self.B.shape)\n",
    "        \n",
    "    def get_output_shape(self, A_prev_shape):\n",
    "        batch_size,D,W,H = A_prev_shape\n",
    "        H_out = (H - self.kernel_size[0])//self.stride[0] + 1\n",
    "        W_out = (W - self.kernel_size[1])//self.stride[1] + 1\n",
    "        output_shape = (batch_size, self.n_filters, H_out, W_out)\n",
    "        return output_shape\n",
    "    \n",
    "    def forward(self, A_prev):\n",
    "        A_prev = zero_padding(A_prev, self.padding)        \n",
    "        self.A_prev_shape = A_prev.shape\n",
    "        self.im2cols, self.act_idx = im2col(A_prev,self.kernel_size, self.stride)\n",
    "        output_shape = self.get_output_shape(A_prev.shape)\n",
    "        \n",
    "        self.Z = np.einsum('mfn,fk->mnk',self.im2cols,self.W) + self.B   \n",
    "        self.A = self.activation.activate(self.Z)\n",
    "        self.A = np.transpose(self.A,(0,2,1)).reshape(output_shape)\n",
    "        return self.A\n",
    "    \n",
    "    def grad(self, dA):\n",
    "        batch_size = dA.shape[0]\n",
    "        dAdZ = self.activation.diff(self.Z)\n",
    "        self.dZ = np.einsum('mjk,mjk->mjk', dA, dAdZ)\n",
    "        \n",
    "        self.dW = (1./batch_size)*np.einsum('mjk,mkl->jl', self.im2cols, self.dZ)\n",
    "        self.dB = (1./batch_size)*np.einsum('mjk->k', self.dZ)\n",
    "        \n",
    "        dA_prev_cols = np.einsum('mnk,fk-> mfn',self.dZ, self.W) \n",
    "\n",
    "        dA_prev = np.zeros(self.A_prev_shape)        \n",
    "        for i in range(self.act_idx.shape[-1]):\n",
    "            dA_prev.ravel()[self.act_idx[:,:,i].ravel()] += dA_prev_cols[:,:,i].ravel()\n",
    "\n",
    "        dA_prev = dA_prev.reshape(dA_prev.shape[0],dA_prev.shape[1],dA_prev.shape[2]*dA_prev.shape[3])\n",
    "        dA_prev = np.transpose(dA_prev,(0,2,1))\n",
    "        \n",
    "        return dA_prev\n",
    "    \n",
    "    def step(self, lr, beta, reg_lambda=0):\n",
    "        self.V_dW = (beta * self.V_dW + (1. - beta) * self.dW)\n",
    "        self.V_dB = (beta * self.V_dB + (1. - beta) * self.dB)\n",
    "        self.W    =  self.W - lr*self.V_dW\n",
    "        self.B    =  self.B - lr*self.V_dB"
   ]
  },
  {
   "cell_type": "code",
   "execution_count": 9,
   "metadata": {},
   "outputs": [],
   "source": [
    "class max_pool_layer():\n",
    "    def __init__(self, kernel_size, n_channels, stride =[1,1],  padding = [0,0]):\n",
    "\n",
    "        self.kernel_size = kernel_size\n",
    "        self.n_channels = n_channels\n",
    "        self.stride = stride\n",
    "        self.padding = padding\n",
    "        \n",
    "    def get_output_shape(self, A_prev_shape):\n",
    "        batch_size,D,W,H = A_prev_shape\n",
    "        H_out = (H - self.kernel_size[0])//self.stride[0] + 1\n",
    "        W_out = (W - self.kernel_size[1])//self.stride[1] + 1\n",
    "        output_shape = (batch_size, self.n_channels, H_out, W_out)\n",
    "        return output_shape\n",
    "    \n",
    "    def forward(self, A_prev):\n",
    "\n",
    "        A_prev = zero_padding(A_prev, self.padding)\n",
    "        self.A_prev_shape = A_prev.shape\n",
    "        self.im2cols, self.act_idx = im2col(A_prev, self.kernel_size, self.stride)\n",
    "        \n",
    "        output_shape = self.get_output_shape(A_prev.shape)\n",
    "        \n",
    "        self.Z = np.split(self.im2cols,self.n_channels,axis=1)\n",
    "        self.Z = np.stack(self.Z, axis=1)\n",
    "\n",
    "        self.A = np.max(self.Z,axis=2)  \n",
    "        self.arg = np.argmax(self.A,axis=2)\n",
    "        \n",
    "        self.A = self.A.reshape(output_shape)\n",
    "        return self.A\n",
    "    \n",
    "    def grad(self, dA):\n",
    "        batch_size = dA.shape[0]\n",
    "        dA = np.expand_dims(dA.transpose(0,2,1), axis=2)\n",
    "        A = self.A.reshape(self.A.shape[0],self.A.shape[1],1,self.A.shape[-2]*self.A.shape[-1])\n",
    "        dAdZ = (self.Z - A)==0\n",
    "        self.dZ = np.multiply(dA, dAdZ) \n",
    "        shape = self.dZ.shape\n",
    "        self.dZ = self.dZ.reshape(shape[0],shape[1]*shape[2],shape[3])\n",
    "        \n",
    "        dA_prev = np.zeros(self.A_prev_shape)        \n",
    "        \n",
    "        for i in range(self.act_idx.shape[-1]):\n",
    "            dA_prev.ravel()[self.act_idx[:,:,i].ravel()] += self.dZ[:,:,i].ravel()\n",
    "\n",
    "        dA_prev = dA_prev.reshape(dA_prev.shape[0],dA_prev.shape[1],dA_prev.shape[2]*dA_prev.shape[3])\n",
    "        dA_prev = np.transpose(dA_prev,(0,2,1))\n",
    "        \n",
    "        return dA_prev\n",
    "    \n",
    "    def step(self, lr, beta, reg_lambda=0):\n",
    "        return None"
   ]
  },
  {
   "cell_type": "code",
   "execution_count": 10,
   "metadata": {},
   "outputs": [],
   "source": [
    "class MNIST_CNN:\n",
    "    def __init__(self, Y_size, lossfn, n_channels=1):\n",
    "        self.L1 = conv_layer([5,5], n_channels, leaky_relu, n_filters = 10,padding = [2,2])\n",
    "        self.L2 = conv_layer([3,3], 10, leaky_relu, n_filters = 15)\n",
    "        self.L3 = max_pool_layer([2,2],15, stride=[2,2])\n",
    "        self.L4 = conv_layer([3,3], 15, leaky_relu)        \n",
    "        self.L5 = layer(121,50, leaky_relu)\n",
    "        self.L6 = layer(50, Y_size, softmax)\n",
    "        self.lossfn = lossfn()\n",
    "        \n",
    "    def f_pass(self, X):\n",
    "        A = self.L1.forward(X)\n",
    "        A = self.L2.forward(A)\n",
    "        A = self.L3.forward(A)\n",
    "        A = self.L4.forward(A)\n",
    "        A.resize(A.shape[0], A.shape[2]*A.shape[3])\n",
    "        A = self.L5.forward(A)\n",
    "        A = self.L6.forward(A)\n",
    "        self.H = A\n",
    "        return self.H\n",
    "    \n",
    "    def back_prop(self,X,Y, batch_size,reg_lambda=0):\n",
    "        m = batch_size\n",
    "        self.loss = self.lossfn.get_loss(self.H,Y)\n",
    "        dZ = self.lossfn.diff(self.H,Y)\n",
    "        dA = self.L6.out_grad(dZ, self.L5.A, m)\n",
    "        dA = self.L5.grad(dA,self.L4.A, m)\n",
    "        dA = np.expand_dims(dA,axis=-1)\n",
    "        dA = self.L4.grad(dA)\n",
    "        dA = self.L3.grad(dA)\n",
    "        dA = self.L2.grad(dA)\n",
    "        dX = self.L1.grad(dA)\n",
    "    \n",
    "    def optim(self, lr, beta=0):\n",
    "        self.L1.step(lr,beta)\n",
    "        self.L2.step(lr,beta)\n",
    "        self.L3.step(lr,beta)\n",
    "        self.L4.step(lr,beta)\n",
    "        self.L5.step(lr,beta)\n",
    "        self.L6.step(lr,beta)"
   ]
  },
  {
   "cell_type": "code",
   "execution_count": 11,
   "metadata": {},
   "outputs": [],
   "source": [
    "trainX_path = 'MNIST_np/data/MNIST/train/train-images-idx3-ubyte'\n",
    "trainY_path = 'MNIST_np/data/MNIST/train/train-labels-idx1-ubyte'\n",
    "testX_path  = 'MNIST_np/data/MNIST/test/t10k-images.idx3-ubyte'\n",
    "testY_path  = 'MNIST_np/data/MNIST/test/t10k-labels.idx1-ubyte'\n",
    "\n",
    "X,Y,X_test,Y_test = load_mnist_data(trainX_path,trainY_path,testX_path,testY_path)"
   ]
  },
  {
   "cell_type": "code",
   "execution_count": 19,
   "metadata": {},
   "outputs": [],
   "source": [
    "n_out = np.shape(Y)[1]\n",
    "mnist_cnn = MNIST_CNN(n_out,CE_loss)"
   ]
  },
  {
   "cell_type": "code",
   "execution_count": 28,
   "metadata": {},
   "outputs": [],
   "source": [
    "batch_size = 16\n",
    "\n",
    "lr = 0.005\n",
    "\n",
    "n_epochs = 10\n",
    "\n",
    "lr_decay = 0.9\n",
    "\n",
    "data_size = X.shape[0]\n",
    "\n",
    "beta = 0"
   ]
  },
  {
   "cell_type": "code",
   "execution_count": 29,
   "metadata": {
    "scrolled": true
   },
   "outputs": [
    {
     "name": "stdout",
     "output_type": "stream",
     "text": [
      "epoch:10/10 | Loss:0.0992 Train Accuracy: 0.9296 | Test_Accuracy:0.9290\n"
     ]
    },
    {
     "data": {
      "image/png": "[encoded data removed]",
      "text/plain": [
       "<Figure size 432x288 with 1 Axes>"
      ]
     },
     "metadata": {
      "needs_background": "light"
     },
     "output_type": "display_data"
    }
   ],
   "source": [
    "train(mnist_cnn, X, Y, X_test, Y_test, model_accuracy, n_epochs, \\\n",
    "    batch_size, lr, lr_decay, beta)"
   ]
  },
  {
   "cell_type": "code",
   "execution_count": null,
   "metadata": {},
   "outputs": [],
   "source": [
    "# measure time taken\n",
    "start = time. time()\n",
    "mnist_cnn.f_pass(X[0:4])\n",
    "endf = time. time()\n",
    "mnist_cnn.back_prop(X[0:4],Y[0:4],4)\n",
    "endb = time. time()\n",
    "mnist_cnn.optim(lr,beta)\n",
    "endo = time. time()\n",
    "mnist_cnn.loss"
   ]
  },
  {
   "cell_type": "code",
   "execution_count": null,
   "metadata": {},
   "outputs": [],
   "source": [
    "print(f\"f-pass:{endf-start:.4f} | b-prop:{endb-endf:.4f} | optim: {endo-endb:.4f} | total: {endo-start:.4f}\")"
   ]
  },
  {
   "cell_type": "code",
   "execution_count": null,
   "metadata": {},
   "outputs": [],
   "source": [
    "import pickle\n",
    "\n",
    "# Does not work currently\n",
    "\n",
    "def save_model(model, filename):\n",
    "    with open(filename, 'wb') as output:  # Overwrites any existing file.\n",
    "        pickle.dump(model, output, pickle.HIGHEST_PROTOCOL)\n",
    "\n",
    "def load_model(filename):\n",
    "    model = None\n",
    "    with open(filename, 'r') as f:  # Overwrites any existing file.\n",
    "        model = pickle.load(f)   \n",
    "    return model"
   ]
  }
 ],
 "metadata": {
  "kernelspec": {
   "display_name": "onlinepub",
   "language": "python",
   "name": "testenv"
  },
  "language_info": {
   "codemirror_mode": {
    "name": "ipython",
    "version": 3
   },
   "file_extension": ".py",
   "mimetype": "text/x-python",
   "name": "python",
   "nbconvert_exporter": "python",
   "pygments_lexer": "ipython3",
   "version": "3.6.7"
  }
 },
 "nbformat": 4,
 "nbformat_minor": 2
}
