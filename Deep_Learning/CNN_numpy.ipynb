{
 "cells": [
  {
   "cell_type": "code",
   "execution_count": 2,
   "metadata": {},
   "outputs": [],
   "source": [
    "import numpy as np\n",
    "from atlas_ml import *\n",
    "import pandas as pd"
   ]
  },
  {
   "cell_type": "code",
   "execution_count": 3,
   "metadata": {},
   "outputs": [],
   "source": [
    "img_mat = np.random.rand(15,15,3)"
   ]
  },
  {
   "cell_type": "code",
   "execution_count": 4,
   "metadata": {},
   "outputs": [],
   "source": [
    "def zero_padding(img_matrix, padding):\n",
    "    padded_matrix = np.pad(img_matrix, pad_width=padding,mode='constant',)\n",
    "    return padded_matrix"
   ]
  },
  {
   "cell_type": "code",
   "execution_count": 5,
   "metadata": {},
   "outputs": [],
   "source": [
    "A = np.random.rand(4,4,3)\n",
    "P = zero_padding(A,[(2,2),(2,2),(0,0)])"
   ]
  },
  {
   "cell_type": "code",
   "execution_count": 9,
   "metadata": {},
   "outputs": [
    {
     "data": {
      "text/plain": [
       "array([0, 1, 3, 4])"
      ]
     },
     "execution_count": 9,
     "metadata": {},
     "output_type": "execute_result"
    }
   ],
   "source": [
    "B = np.arange(6)\n",
    "B = B.reshape(2,3)\n",
    "f = 2\n",
    "\n",
    "B[:2,:2].flatten()"
   ]
  },
  {
   "cell_type": "code",
   "execution_count": null,
   "metadata": {},
   "outputs": [],
   "source": [
    "def im2col(img_matrix, kernel_size, stride):\n",
    "    \n",
    "    return img_col"
   ]
  },
  {
   "cell_type": "code",
   "execution_count": null,
   "metadata": {},
   "outputs": [],
   "source": [
    "class conv_layer():\n",
    "    def __init__(self,kernel_size, n_channels, stride, padding):\n",
    "    \n",
    "    def forward(self, prev_layer):\n",
    "    \n",
    "    def back_prop(self,):\n",
    "    \n",
    "    def step(self, lr, beta, reg_lambda):\n",
    "        "
   ]
  },
  {
   "cell_type": "code",
   "execution_count": null,
   "metadata": {},
   "outputs": [],
   "source": [
    "class pool_layer():\n",
    "    def __init__(self,kernel_size, stride, padding):\n",
    "    def forward(self,):\n",
    "    def back_prop(self,):\n",
    "    def step(self,):"
   ]
  }
 ],
 "metadata": {
  "kernelspec": {
   "display_name": "onlinepub",
   "language": "python",
   "name": "testenv"
  },
  "language_info": {
   "codemirror_mode": {
    "name": "ipython",
    "version": 3
   },
   "file_extension": ".py",
   "mimetype": "text/x-python",
   "name": "python",
   "nbconvert_exporter": "python",
   "pygments_lexer": "ipython3",
   "version": "3.6.7"
  }
 },
 "nbformat": 4,
 "nbformat_minor": 2
}
