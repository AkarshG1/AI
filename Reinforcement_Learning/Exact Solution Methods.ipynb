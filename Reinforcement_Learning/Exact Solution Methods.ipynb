{
 "cells": [
  {
   "cell_type": "markdown",
   "metadata": {},
   "source": [
    "## Multi-armed Bandits\n",
    "\n",
    "Choose from K different actions repeatedly and receive a numerical reward chosen from a stationary probability distribution conditional on the selected action each time independent of the previous action(s). \n",
    "\n",
    "In the K-armed Bandit problem, each action $a$ has an expected reward $q_*(a)$. This is called the value of that action.\n",
    "\n",
    "$  q_*(a) \\doteq \\mathbb E[R_t | A_t=a] $\n",
    "\n",
    "Knowing the value of each action would enable us to solve the problem by simply selecting the highest-valued action always. However, it is likely we will have only estimates of the action values at any time, $Q_t(a)$. \n",
    "The objective is to get $Q_t(a)$ as close to $q_t(a)$ as possible.\n",
    "\n",
    "### Action-value Methods\n",
    "\n",
    "One way to estimate $Q_t(a)$ is to average rewards over the timesteps\n",
    "\n",
    "$Q_t(a) \\doteq \\frac{\\sum^{t-1}_{i=1}R_i \\cdot \\mathbb 1_{A_i=a}}{\\sum^{t-1}_{i=1}\\mathbb 1_{A_i=a}}$\n",
    "\n",
    "The best way to select an action, a.k.a the policy would be 'greedy':\n",
    "\n",
    "$A_t \\doteq \\underset{a}{argmax} Q_t(a)$\n"
   ]
  },
  {
   "cell_type": "markdown",
   "metadata": {},
   "source": [
    "\n"
   ]
  }
 ],
 "metadata": {
  "kernelspec": {
   "display_name": "ai",
   "language": "python",
   "name": "ai"
  },
  "language_info": {
   "codemirror_mode": {
    "name": "ipython",
    "version": 3
   },
   "file_extension": ".py",
   "mimetype": "text/x-python",
   "name": "python",
   "nbconvert_exporter": "python",
   "pygments_lexer": "ipython3",
   "version": "3.7.4"
  }
 },
 "nbformat": 4,
 "nbformat_minor": 2
}
