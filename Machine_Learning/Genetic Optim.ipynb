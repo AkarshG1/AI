{
 "cells": [
  {
   "cell_type": "code",
   "execution_count": 1,
   "metadata": {},
   "outputs": [],
   "source": [
    "import numpy as np\n",
    "import matplotlib.pyplot as plt\n",
    "import pandas as pd\n",
    "from IPython.display import clear_output, display, Math, Latex\n",
    "from atlas_ml import *\n",
    "import random, math"
   ]
  },
  {
   "cell_type": "code",
   "execution_count": 2,
   "metadata": {},
   "outputs": [],
   "source": [
    "def cross(X1,X2):\n",
    "    # half genes from X1, other half from X2\n",
    "    # if number of genes n is odd, n-1 split between X1 and X2, \n",
    "    #     nth gene selected on random from either X1 or X2 \n",
    "    # WIP\n",
    "    N = X1.shape[0]\n",
    "    indices = range(0,N)\n",
    "    indices_set = set(indices)\n",
    "    x1_ind = set(random.sample(indices, N//2))\n",
    "    x2_ind = indices - x1_ind    \n",
    "    return X3"
   ]
  },
  {
   "cell_type": "code",
   "execution_count": 3,
   "metadata": {},
   "outputs": [],
   "source": [
    "def F(X):\n",
    "    fitness = -(X[0]-1)**2 - (X[0]-X[1])**2 - (X[0]-X[1]-X[2]-2)**2\n",
    "    return fitness"
   ]
  },
  {
   "cell_type": "code",
   "execution_count": 4,
   "metadata": {},
   "outputs": [],
   "source": [
    "GO = genetic_optimizer(6,3,F)"
   ]
  },
  {
   "cell_type": "code",
   "execution_count": 5,
   "metadata": {},
   "outputs": [
    {
     "data": {
      "text/plain": [
       "array([ True, False, False, False, False])"
      ]
     },
     "execution_count": 5,
     "metadata": {},
     "output_type": "execute_result"
    }
   ],
   "source": [
    "np.random.uniform(size=5) < 0.5 "
   ]
  },
  {
   "cell_type": "code",
   "execution_count": 6,
   "metadata": {},
   "outputs": [
    {
     "name": "stdout",
     "output_type": "stream",
     "text": [
      "-2.629700362932945\n",
      "[ 0.29989956  1.4896085   3.17903887  0.01949544  3.33557621 -1.0440417 ]\n",
      "-0.0005933709183754167\n",
      "[0.98990412 0.98990412 0.98990412 0.98990412 0.98990412 0.98990412]\n",
      "-0.0001004791449321876\n",
      "[0.99006541 0.97767987 0.97767987 0.77143906 0.77143906 0.97767987]\n",
      "-0.0001000553187149704\n",
      "[0.99572698 0.99572698 0.99572698 0.99572698 0.99572698 0.99572698]\n",
      "-2.0549963124734557e-05\n",
      "[0.99597685 1.02211138 0.99597685 0.99597685 0.99597685 0.99597685]\n",
      "-5.235373112402198e-06\n",
      "[0.99883765 0.99883765 0.99883765 0.99883765 0.99883765 1.7063019 ]\n",
      "-5.235373112402198e-06\n",
      "[0.99883765 0.99883765 0.63463786 0.99883765 0.20839499 0.20839499]\n",
      "-5.235373112402198e-06\n",
      "[0.99883765 0.99883765 0.99883765 1.8082288  1.8082288  1.8082288 ]\n",
      "-5.235373112402198e-06\n",
      "[0.99883765 0.99883765 0.99883765 0.99883765 1.45137226 0.84687703]\n",
      "-5.235373112402198e-06\n",
      "[0.99883765 0.99883765 0.99883765 0.99883765 0.52951085 0.99883765]\n"
     ]
    },
    {
     "data": {
      "text/plain": [
       "(-5.235373112402198e-06, array([ 0.99883765,  0.99704435, -1.99738915]))"
      ]
     },
     "execution_count": 6,
     "metadata": {},
     "output_type": "execute_result"
    }
   ],
   "source": [
    "GO.optimize()"
   ]
  },
  {
   "cell_type": "code",
   "execution_count": null,
   "metadata": {},
   "outputs": [],
   "source": []
  }
 ],
 "metadata": {
  "kernelspec": {
   "display_name": "onlinepub",
   "language": "python",
   "name": "testenv"
  },
  "language_info": {
   "codemirror_mode": {
    "name": "ipython",
    "version": 3
   },
   "file_extension": ".py",
   "mimetype": "text/x-python",
   "name": "python",
   "nbconvert_exporter": "python",
   "pygments_lexer": "ipython3",
   "version": "3.6.7"
  }
 },
 "nbformat": 4,
 "nbformat_minor": 2
}
