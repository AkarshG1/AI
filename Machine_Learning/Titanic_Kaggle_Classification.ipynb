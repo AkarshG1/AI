{
 "cells": [
  {
   "cell_type": "code",
   "execution_count": 9,
   "metadata": {},
   "outputs": [],
   "source": [
    "import numpy as np\n",
    "import pandas as pd\n",
    "import matplotlib as mpl\n",
    "import matplotlib.pyplot as plt\n",
    "import re\n",
    "from IPython.display import clear_output, display, Math, Latex\n",
    "from atlas_ml import *"
   ]
  },
  {
   "cell_type": "code",
   "execution_count": 94,
   "metadata": {},
   "outputs": [],
   "source": [
    "dataset = pd.read_csv('Datasets/Classification/Titanic/train.csv')\n",
    "dataset = dataset.fillna(0)\n",
    "data = dataset.values.T\n",
    "Pass_id = data[0]\n",
    "Y = one_hot(np.expand_dims(data[1],0),2)\n",
    "Pclass = data[2]\n",
    "Sex = [1*int(i=='male') for i in data[4] ]\n",
    "Age = data[5]\n",
    "SibSp = data[6]\n",
    "Parch = data[7]\n",
    "#Ticket = [i]  -> probably irrelevant or redundant with class, fare etc\n",
    "Fare = data[9]\n",
    "#Cabin = [int(i[])] -> too many Nan\n",
    "Embarked = [1*int(i=='S')+2*int(i=='C')+3*int(i=='Q') for i in data[11]]"
   ]
  },
  {
   "cell_type": "code",
   "execution_count": 186,
   "metadata": {},
   "outputs": [],
   "source": [
    "# degree of polynomial features\n",
    "d = 1"
   ]
  },
  {
   "cell_type": "code",
   "execution_count": 187,
   "metadata": {
    "scrolled": true
   },
   "outputs": [
    {
     "name": "stderr",
     "output_type": "stream",
     "text": [
      "/home/agopal/anaconda3/envs/onlinepub/lib/python3.6/site-packages/ipykernel_launcher.py:3: DeprecationWarning: Numeric-style type codes are deprecated and will result in an error in the future.\n",
      "  This is separate from the ipykernel package so we can avoid doing imports until\n",
      "/home/agopal/anaconda3/envs/onlinepub/lib/python3.6/site-packages/ipykernel_launcher.py:4: DeprecationWarning: Numeric-style type codes are deprecated and will result in an error in the future.\n",
      "  after removing the cwd from sys.path.\n",
      "/home/agopal/anaconda3/envs/onlinepub/lib/python3.6/site-packages/ipykernel_launcher.py:6: DeprecationWarning: Numeric-style type codes are deprecated and will result in an error in the future.\n",
      "  \n",
      "/home/agopal/anaconda3/envs/onlinepub/lib/python3.6/site-packages/ipykernel_launcher.py:7: DeprecationWarning: Numeric-style type codes are deprecated and will result in an error in the future.\n",
      "  import sys\n"
     ]
    }
   ],
   "source": [
    "X = np.vstack([normalize(i) for i in [Pclass,Sex,Age,SibSp,Parch,Fare,Embarked]])\n",
    "size = X.shape[1]\n",
    "X_train = X[:,:int(size*0.9)].astype('Float64')\n",
    "Y_train = Y[:,:int(size*0.9)].astype('Float64')\n",
    "PX_train = (polynom_features(X_train,d))\n",
    "X_val = X[:,int(size*0.9):].astype('Float64')\n",
    "Y_val = Y[:,int(size*0.9):].astype('Float64')\n",
    "PX_val = (polynom_features(X_val,d))\n"
   ]
  },
  {
   "cell_type": "code",
   "execution_count": 188,
   "metadata": {},
   "outputs": [],
   "source": [
    "n_in = np.shape(PX_train)[0]\n",
    "n_out = np.shape(Y_train)[0]\n",
    "log_reg = Logistic(n_in,n_out,CE_loss)"
   ]
  },
  {
   "cell_type": "code",
   "execution_count": 189,
   "metadata": {},
   "outputs": [],
   "source": [
    "n_epochs = 15\n",
    "lr = 0.01\n",
    "lr_decay = 1\n",
    "batch_size = 32\n",
    "beta = 0.1\n",
    "\n",
    "#regularization parameter labmda\n",
    "reg_lamda = 0"
   ]
  },
  {
   "cell_type": "code",
   "execution_count": 190,
   "metadata": {
    "scrolled": true
   },
   "outputs": [
    {
     "name": "stdout",
     "output_type": "stream",
     "text": [
      "epoch:15/15 | Loss:0.1802 | Train Accuracy: 0.8065 | Test_Accuracy:0.8222\n"
     ]
    },
    {
     "data": {
      "image/png": "[encoded data removed]",
      "text/plain": [
       "<Figure size 432x288 with 1 Axes>"
      ]
     },
     "metadata": {
      "needs_background": "light"
     },
     "output_type": "display_data"
    }
   ],
   "source": [
    "train(log_reg, PX_train, Y_train, PX_val, Y_val, model_accuracy, n_epochs, batch_size, lr, lr_decay, beta, reg_lamda)"
   ]
  },
  {
   "cell_type": "code",
   "execution_count": 49,
   "metadata": {},
   "outputs": [],
   "source": [
    "dataset = pd.read_csv('Datasets/Classification/Titanic/test.csv')\n",
    "dataset = dataset.fillna(0)\n",
    "data = dataset.values.T\n",
    "Pass_id = data[0]\n",
    "Pclass = data[1]\n",
    "Sex = [1*int(i=='male') for i in data[3] ]\n",
    "Age = data[4]\n",
    "SibSp = data[5]\n",
    "Parch = data[6]\n",
    "#Ticket = [i]  -> probably irrelevant or redundant with class, fare etc\n",
    "Fare = data[8]\n",
    "#Cabin = [int(i[])] -> too many Nan\n",
    "Embarked = [1*int(i=='S')+2*int(i=='C')+3*int(i=='Q') for i in data[10]]"
   ]
  },
  {
   "cell_type": "code",
   "execution_count": 51,
   "metadata": {
    "scrolled": true
   },
   "outputs": [
    {
     "name": "stderr",
     "output_type": "stream",
     "text": [
      "/home/agopal/anaconda3/envs/onlinepub/lib/python3.6/site-packages/ipykernel_launcher.py:1: DeprecationWarning: Numeric-style type codes are deprecated and will result in an error in the future.\n",
      "  \"\"\"Entry point for launching an IPython kernel.\n"
     ]
    }
   ],
   "source": [
    "X_test = np.vstack([normalize(i) for i in [Pclass,Sex,Age,SibSp,Parch,Fare,Embarked]]).astype('Float64')\n",
    "PX_test = polynom_features(X_test,d)\n",
    "H = inv_one_hot(log_reg.f_pass(PX_test))"
   ]
  },
  {
   "cell_type": "code",
   "execution_count": null,
   "metadata": {},
   "outputs": [],
   "source": [
    "submission = pd.DataFrame({'PassengerId':Pass_id.flatten(),'Survived':H.flatten().astype('int')})"
   ]
  },
  {
   "cell_type": "code",
   "execution_count": null,
   "metadata": {},
   "outputs": [],
   "source": [
    "submission.to_csv('submission.csv', index=False)"
   ]
  },
  {
   "cell_type": "code",
   "execution_count": null,
   "metadata": {},
   "outputs": [],
   "source": [
    "X_test = np.vstack([normalize(i) for i in [Pclass,Sex,Age,SibSp,Parch,Fare,Embarked]]).astype('Float64')\n",
    "H2 = inv_one_hot(titanic_net.f_pass(X_test))"
   ]
  }
 ],
 "metadata": {
  "kernelspec": {
   "display_name": "onlinepub",
   "language": "python",
   "name": "testenv"
  },
  "language_info": {
   "codemirror_mode": {
    "name": "ipython",
    "version": 3
   },
   "file_extension": ".py",
   "mimetype": "text/x-python",
   "name": "python",
   "nbconvert_exporter": "python",
   "pygments_lexer": "ipython3",
   "version": "3.6.7"
  }
 },
 "nbformat": 4,
 "nbformat_minor": 2
}
