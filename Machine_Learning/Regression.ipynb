{
 "cells": [
  {
   "cell_type": "code",
   "execution_count": 1,
   "metadata": {},
   "outputs": [],
   "source": [
    "import numpy as np\n",
    "import matplotlib.pyplot as plt\n",
    "import pandas as pd\n",
    "from IPython.display import clear_output, display, Math, Latex\n",
    "from atlas_ml import *"
   ]
  },
  {
   "cell_type": "code",
   "execution_count": 2,
   "metadata": {
    "scrolled": false
   },
   "outputs": [],
   "source": [
    "df = pd.read_csv('Datasets/Regression/ex2data1.csv')\n",
    "A2 = df.values.T\n",
    "X2 = A2[0:2,0:-10]\n",
    "Y2 = A2[2:3,0:-10]\n",
    "Y2 = one_hot(Y2,2)\n",
    "X2_test = A2[0:2,0:-10]\n",
    "Y2_test = A2[2:3,0:-10]\n",
    "Y2_test = one_hot(Y2_test,2)"
   ]
  },
  {
   "cell_type": "markdown",
   "metadata": {},
   "source": [
    "Simple Sample to Test whether Linear Regression Works. Linear model: W*X + b"
   ]
  },
  {
   "cell_type": "code",
   "execution_count": 3,
   "metadata": {},
   "outputs": [],
   "source": [
    "X = np.array(range(-100,100,1))/10\n",
    "Y = 3*(X)+4\n",
    "X = np.expand_dims(X,1).T\n",
    "Y = np.expand_dims(Y,1).T\n",
    "X_test = np.array(range(100,120,1))/10\n",
    "Y_test = 3*(X_test)+4\n",
    "X_test = np.expand_dims(X_test,1).T\n",
    "Y_test = np.expand_dims(Y_test,1).T"
   ]
  },
  {
   "cell_type": "markdown",
   "metadata": {},
   "source": [
    "Declaring Linear 'Regressor' using abstracted concepts in atlas_ml.py"
   ]
  },
  {
   "cell_type": "code",
   "execution_count": 4,
   "metadata": {},
   "outputs": [],
   "source": [
    "class Linear:\n",
    "    def __init__(self, X_size, Y_size, lossfn):\n",
    "        self.regressor = layer(X_size, Y_size, no_op)\n",
    "        self.lossfn = lossfn\n",
    "        \n",
    "    def f_pass(self, X):\n",
    "        self.H = self.regressor.forward(X)\n",
    "        return self.H\n",
    "    \n",
    "    def back_prop(self,X,Y, batch_size):\n",
    "        m = batch_size\n",
    "        self.loss = self.lossfn.get_loss(self.H,Y)\n",
    "        dZ = self.lossfn.diff(self.H,Y)\n",
    "        self.regressor.out_grad(dZ, X, m)\n",
    "        \n",
    "    def optim(self, lr, beta=0):\n",
    "        self.regressor.step(lr,beta)"
   ]
  },
  {
   "cell_type": "code",
   "execution_count": 5,
   "metadata": {},
   "outputs": [],
   "source": [
    "class Logistic:\n",
    "    def __init__(self, X_size, Y_size, lossfn):\n",
    "        self.regressor = layer(X_size, Y_size, softmax)\n",
    "        self.lossfn = lossfn\n",
    "        \n",
    "    def f_pass(self, X):\n",
    "        self.H = self.regressor.forward(X)\n",
    "        return self.H\n",
    "    \n",
    "    def back_prop(self, X, Y, batch_size):\n",
    "        m = batch_size\n",
    "        self.loss = self.lossfn.get_loss(self.H,Y)\n",
    "        dZ = self.lossfn.diff(self.H,Y)\n",
    "        self.regressor.out_grad(dZ, X, m)\n",
    "    \n",
    "    def optim(self, lr, beta=0):\n",
    "        self.regressor.step(lr,beta)"
   ]
  },
  {
   "cell_type": "code",
   "execution_count": 6,
   "metadata": {},
   "outputs": [],
   "source": [
    "#Model creation\n",
    "n_in = np.shape(X)[0]\n",
    "n_out = np.shape(Y)[0]\n",
    "lin_reg = Linear(n_in,n_out, MSE)"
   ]
  },
  {
   "cell_type": "code",
   "execution_count": 30,
   "metadata": {},
   "outputs": [],
   "source": [
    "n_in = np.shape(X2)[0]\n",
    "n_out = np.shape(Y2)[0]\n",
    "log_reg = Logistic(n_in,n_out,CE_loss)"
   ]
  },
  {
   "cell_type": "code",
   "execution_count": 29,
   "metadata": {},
   "outputs": [],
   "source": [
    "n_epochs = 20\n",
    "lr = 0.1\n",
    "lr_decay = 1\n",
    "batch_size = 90\n",
    "beta = 0"
   ]
  },
  {
   "cell_type": "code",
   "execution_count": 9,
   "metadata": {},
   "outputs": [
    {
     "data": {
      "image/png": "[encoded data removed]",
      "text/plain": [
       "<Figure size 432x288 with 1 Axes>"
      ]
     },
     "metadata": {
      "needs_background": "light"
     },
     "output_type": "display_data"
    }
   ],
   "source": [
    "train(lin_reg, X, Y, X_test, Y_test, RMSE, n_epochs)"
   ]
  },
  {
   "cell_type": "code",
   "execution_count": 31,
   "metadata": {
    "scrolled": true
   },
   "outputs": [
    {
     "data": {
      "image/png": "[encoded data removed]",
      "text/plain": [
       "<Figure size 432x288 with 1 Axes>"
      ]
     },
     "metadata": {
      "needs_background": "light"
     },
     "output_type": "display_data"
    }
   ],
   "source": [
    "train(log_reg, X2, Y2, X2_test, Y2_test, model_accuracy, n_epochs)"
   ]
  },
  {
   "cell_type": "code",
   "execution_count": 28,
   "metadata": {},
   "outputs": [
    {
     "data": {
      "text/plain": [
       "44.079471194611074"
      ]
     },
     "execution_count": 28,
     "metadata": {},
     "output_type": "execute_result"
    }
   ],
   "source": [
    "log_reg.loss"
   ]
  },
  {
   "cell_type": "code",
   "execution_count": 15,
   "metadata": {},
   "outputs": [
    {
     "data": {
      "text/plain": [
       "(2, 90)"
      ]
     },
     "execution_count": 15,
     "metadata": {},
     "output_type": "execute_result"
    }
   ],
   "source": [
    "Y2.shape"
   ]
  },
  {
   "cell_type": "code",
   "execution_count": null,
   "metadata": {},
   "outputs": [],
   "source": []
  }
 ],
 "metadata": {
  "kernelspec": {
   "display_name": "onlinepub",
   "language": "python",
   "name": "testenv"
  },
  "language_info": {
   "codemirror_mode": {
    "name": "ipython",
    "version": 3
   },
   "file_extension": ".py",
   "mimetype": "text/x-python",
   "name": "python",
   "nbconvert_exporter": "python",
   "pygments_lexer": "ipython3",
   "version": "3.6.7"
  }
 },
 "nbformat": 4,
 "nbformat_minor": 2
}
