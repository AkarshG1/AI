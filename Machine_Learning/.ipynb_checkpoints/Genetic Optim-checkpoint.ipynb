{
 "cells": [
  {
   "cell_type": "code",
   "execution_count": 58,
   "metadata": {},
   "outputs": [],
   "source": [
    "import numpy as np\n",
    "import matplotlib.pyplot as plt\n",
    "import pandas as pd\n",
    "from IPython.display import clear_output, display, Math, Latex\n",
    "from atlas_ml import *\n",
    "import random, math"
   ]
  },
  {
   "cell_type": "code",
   "execution_count": null,
   "metadata": {},
   "outputs": [],
   "source": [
    "def cross(X1,X2):\n",
    "    # half genes from X1, other half from X2\n",
    "    # if number of genes n is odd, n-1 split between X1 and X2, \n",
    "    #     nth gene selected on random from either X1 or X2 \n",
    "    N = X1.shape[0]\n",
    "    indices = range(0,N)\n",
    "    indices_set = set(indices)\n",
    "    x1_ind = set(random.sample(indices, N//2))\n",
    "    x2_ind = indices - x1_ind    \n",
    "    return X3"
   ]
  },
  {
   "cell_type": "code",
   "execution_count": 100,
   "metadata": {},
   "outputs": [],
   "source": [
    "def F(X):\n",
    "    fitness = -(X[0]-1)**2 - (X[0]-X[1])**2 - (X[0]-X[1]-X[2]-2)**2\n",
    "    return fitness"
   ]
  },
  {
   "cell_type": "code",
   "execution_count": 167,
   "metadata": {},
   "outputs": [],
   "source": [
    "class genetic_optimizer:\n",
    "    \n",
    "    def __init__(self, population_size, num_genes, fitness_fn, mutation_prob=0.2, mutation_ampl=1):\n",
    "        self.population_size = population_size\n",
    "        self.num_genes = num_genes\n",
    "        self.fitness_fn = fitness_fn\n",
    "        self.population = np.random.uniform(low = -4.0, high = 4.0, size = (self.num_genes, self.population_size))\n",
    "        self.mutation_prob = mutation_prob\n",
    "        self.mutation_ampl = mutation_ampl\n",
    "        self.fitness = self.fitness_fn(self.population)\n",
    "        \n",
    "        \n",
    "    def crossover(self, X1, X2):\n",
    "        X3 = np.ndarray( self.num_genes)\n",
    "        for i in range(self.num_genes):\n",
    "            r = np.random.uniform()\n",
    "            if (r < 0.5):\n",
    "                X3[i] = X1[i]\n",
    "            else:\n",
    "                X3[i] = X2[i]\n",
    "        return X3\n",
    "\n",
    "    def mutate(self, X):\n",
    "        X2 = np.ndarray(self.num_genes)\n",
    "        for i in range(self.num_genes):\n",
    "            r = np.random.uniform()\n",
    "            if (r < self.mutation_prob):\n",
    "                X2[i] = X[i] + self.mutation_ampl * np.random.uniform(-1, 1)\n",
    "        return X2\n",
    "\n",
    "    def next_generation(self):\n",
    "        N = self.population_size//4 \n",
    "        k = N\n",
    "        while k < self.population_size:\n",
    "            if (k < 2*N):\n",
    "                self.population[:,k] = self.crossover(self.population[:,k - N], self.population[:,k - N + 1])\n",
    "            if (k >= 2*N) and (k < 3*N):\n",
    "                m = int((4 * N * np.random.uniform())\n",
    "                self.population[:,k] = self.crossover(self.population[:,k - 2 *N], self.population[:,m])\n",
    "            if (k >= 3*N):\n",
    "                m1 = int( 4*N * np.random.uniform())\n",
    "                m2 = int( 4*N * np.random.uniform())\n",
    "                self.population[:,k] = self.crossover(self.population[:,m1], self.population[:,m2])\n",
    "            \n",
    "            self.population[:,k] = self.mutate(self.population[:,k])\n",
    "            k = k + 1\n",
    "\n",
    "    def optimize(self, num_generations = 10000):\n",
    "        self.fitness = np.ndarray([self.population_size,1])\n",
    "        for generation in range(num_generations):\n",
    "            self.fitness = self.fitness_fn(self.population)\n",
    "            qq = np.argsort(self.fitness)\n",
    "            qq = qq[::-1]          \n",
    "            self.population = self.population[:,qq]\n",
    "            self.fitness = self.fitness[qq]  \n",
    "            if (generation % (num_generations/10) == 0): \n",
    "                print(self.fitness[0]) \n",
    "                print(self.population[0])\n",
    "            self.next_generation()\n",
    "        return(self.fitness[0], self.population[:,0])\n",
    "\n",
    "GO = genetic_optimizer(6,3,F)"
   ]
  },
  {
   "cell_type": "code",
   "execution_count": 168,
   "metadata": {},
   "outputs": [
    {
     "name": "stdout",
     "output_type": "stream",
     "text": [
      "-9.737975674886687\n",
      "[-1.47957128  2.87671531 -1.08916697  2.39777106 -3.10645082 -3.08324106]\n",
      "-6.289675394478924e-06\n",
      "[0.99819643 0.99819643 0.99819643 0.99819643 0.99819643 0.99819643]\n",
      "-3.352763831954696e-06\n",
      "[1.00074617 1.00074617 1.00074617 1.24465281 1.00074617 1.00074617]\n",
      "-2.445145418732253e-06\n",
      "[1.00053584 1.00053584 1.00053584 1.00053584 1.00053584 1.00053584]\n",
      "-2.445145418732253e-06\n",
      "[1.00053584 1.00053584 1.00053584 1.00053584 1.17477934 1.60667577]\n",
      "-1.5243769279936143e-06\n",
      "[1.00053584 1.00053584 1.00053584 1.00053584 1.21417755 1.72328727]\n",
      "-1.5243769279936143e-06\n",
      "[1.00053584 1.00053584 1.00053584 1.00053584 1.00053584 1.74978266]\n",
      "-1.5243769279936143e-06\n",
      "[1.00053584 1.00053584 1.00053584 1.00053584 1.00053584 0.60621746]\n",
      "-7.577373544928863e-07\n",
      "[1.00053584 1.00053584 1.00053584 1.00053584 1.00053584 1.00053584]\n",
      "-7.577373544928863e-07\n",
      "[1.00053584 1.00053584 1.00053584 1.70971502 1.00053584 1.00053584]\n"
     ]
    },
    {
     "data": {
      "text/plain": [
       "(-7.320734837388552e-07, array([ 1.00053584,  1.00004406, -1.99905755]))"
      ]
     },
     "execution_count": 168,
     "metadata": {},
     "output_type": "execute_result"
    }
   ],
   "source": [
    "GO.optimize()"
   ]
  },
  {
   "cell_type": "code",
   "execution_count": 166,
   "metadata": {},
   "outputs": [
    {
     "data": {
      "text/plain": [
       "4.0"
      ]
     },
     "execution_count": 166,
     "metadata": {},
     "output_type": "execute_result"
    }
   ],
   "source": [
    "4.612//1"
   ]
  },
  {
   "cell_type": "code",
   "execution_count": null,
   "metadata": {},
   "outputs": [],
   "source": []
  }
 ],
 "metadata": {
  "kernelspec": {
   "display_name": "onlinepub",
   "language": "python",
   "name": "testenv"
  },
  "language_info": {
   "codemirror_mode": {
    "name": "ipython",
    "version": 3
   },
   "file_extension": ".py",
   "mimetype": "text/x-python",
   "name": "python",
   "nbconvert_exporter": "python",
   "pygments_lexer": "ipython3",
   "version": "3.6.7"
  }
 },
 "nbformat": 4,
 "nbformat_minor": 2
}
