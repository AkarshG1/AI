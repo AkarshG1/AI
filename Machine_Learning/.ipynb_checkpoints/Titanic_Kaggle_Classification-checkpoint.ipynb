{
 "cells": [
  {
   "cell_type": "code",
   "execution_count": 45,
   "metadata": {},
   "outputs": [],
   "source": [
    "import numpy as np\n",
    "import pandas as pd\n",
    "import matplotlib as mpl\n",
    "import matplotlib.pyplot as plt\n",
    "import re\n",
    "from IPython.display import clear_output, display, Math, Latex\n",
    "from atlas_ml import *"
   ]
  },
  {
   "cell_type": "code",
   "execution_count": 120,
   "metadata": {},
   "outputs": [],
   "source": [
    "dataset = pd.read_csv('Datasets/Classification/Titanic/train.csv')\n",
    "dataset = dataset.fillna(0)\n",
    "row = dataset.values[0]\n",
    "data = dataset.values.T\n",
    "Pass_id = data[0]\n",
    "Y = one_hot(np.expand_dims(data[1],0),2)\n",
    "Pclass = data[2]\n",
    "Sex = [1*int(i=='male') for i in data[4] ]\n",
    "Age = data[5]\n",
    "SibSp = data[6]\n",
    "Parch = data[7]\n",
    "#Ticket = [i]  -> probably irrelevant or redundant with class, fare etc\n",
    "Fare = data[9]\n",
    "#Cabin = [int(i[])] -> too many Nan\n",
    "Embarked = [1*int(i=='S')+2*int(i=='C')+3*int(i=='Q') for i in data[11]]"
   ]
  },
  {
   "cell_type": "code",
   "execution_count": 121,
   "metadata": {},
   "outputs": [
    {
     "name": "stderr",
     "output_type": "stream",
     "text": [
      "/home/agopal/anaconda3/envs/onlinepub/lib/python3.6/site-packages/ipykernel_launcher.py:3: DeprecationWarning: Numeric-style type codes are deprecated and will result in an error in the future.\n",
      "  This is separate from the ipykernel package so we can avoid doing imports until\n",
      "/home/agopal/anaconda3/envs/onlinepub/lib/python3.6/site-packages/ipykernel_launcher.py:4: DeprecationWarning: Numeric-style type codes are deprecated and will result in an error in the future.\n",
      "  after removing the cwd from sys.path.\n",
      "/home/agopal/anaconda3/envs/onlinepub/lib/python3.6/site-packages/ipykernel_launcher.py:5: DeprecationWarning: Numeric-style type codes are deprecated and will result in an error in the future.\n",
      "  \"\"\"\n",
      "/home/agopal/anaconda3/envs/onlinepub/lib/python3.6/site-packages/ipykernel_launcher.py:6: DeprecationWarning: Numeric-style type codes are deprecated and will result in an error in the future.\n",
      "  \n"
     ]
    }
   ],
   "source": [
    "X = np.vstack([normalize(i) for i in [Pclass,Sex,Age,SibSp,Parch,Fare,Embarked]])\n",
    "size = X.shape[1]\n",
    "X_train = X[:,:int(size*0.8)].astype('Float64')\n",
    "Y_train = Y[:,:int(size*0.8)].astype('Float64')\n",
    "X_test = X[:,int(size*0.8):].astype('Float64')\n",
    "Y_test = Y[:,int(size*0.8):].astype('Float64')"
   ]
  },
  {
   "cell_type": "code",
   "execution_count": 122,
   "metadata": {},
   "outputs": [],
   "source": [
    "n_in = np.shape(X_train)[0]\n",
    "n_out = np.shape(Y_train)[0]\n",
    "log_reg = Logistic(n_in,n_out,CE_loss)"
   ]
  },
  {
   "cell_type": "code",
   "execution_count": 123,
   "metadata": {},
   "outputs": [],
   "source": [
    "n_epochs = 500\n",
    "lr = 0.01\n",
    "lr_decay = 1\n",
    "batch_size = X_train.shape[1]\n",
    "beta = 0\n",
    "\n",
    "#regularization parameter labmda\n",
    "reg_lamda = 0"
   ]
  },
  {
   "cell_type": "code",
   "execution_count": 124,
   "metadata": {},
   "outputs": [
    {
     "name": "stdout",
     "output_type": "stream",
     "text": [
      "epoch:500/500 | Loss:0.2433 | Train Accuracy: 0.7753 | Test_Accuracy:0.7933\n"
     ]
    },
    {
     "data": {
      "image/png": "[encoded data removed]",
      "text/plain": [
       "<Figure size 432x288 with 1 Axes>"
      ]
     },
     "metadata": {
      "needs_background": "light"
     },
     "output_type": "display_data"
    }
   ],
   "source": [
    "train(log_reg, X_train, Y_train, X_test, Y_test, model_accuracy, n_epochs, batch_size, lr, lr_decay, beta, reg_lamda)"
   ]
  },
  {
   "cell_type": "code",
   "execution_count": null,
   "metadata": {},
   "outputs": [],
   "source": []
  }
 ],
 "metadata": {
  "kernelspec": {
   "display_name": "onlinepub",
   "language": "python",
   "name": "testenv"
  },
  "language_info": {
   "codemirror_mode": {
    "name": "ipython",
    "version": 3
   },
   "file_extension": ".py",
   "mimetype": "text/x-python",
   "name": "python",
   "nbconvert_exporter": "python",
   "pygments_lexer": "ipython3",
   "version": "3.6.7"
  }
 },
 "nbformat": 4,
 "nbformat_minor": 2
}
